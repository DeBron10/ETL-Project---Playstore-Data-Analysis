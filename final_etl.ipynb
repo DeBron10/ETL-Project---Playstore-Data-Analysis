{
 "cells": [
  {
   "cell_type": "code",
   "execution_count": null,
   "metadata": {
    "application/vnd.databricks.v1+cell": {
     "cellMetadata": {
      "byteLimit": 2048000,
      "rowLimit": 10000
     },
     "inputWidgets": {},
     "nuid": "700e7031-7746-4933-a5d4-867c4576cc0d",
     "showTitle": false,
     "title": ""
    }
   },
   "outputs": [],
   "source": [
    "#%pip install azure-storage-blob\n",
    "\n",
    "\n",
    "from azure.storage.blob import BlobServiceClient\n",
    "import pandas as pd\n",
    "import io\n",
    "\n",
    "# Define connection parameters\n",
    "connection_string = \"DefaultEndpointsProtocol=https;AccountName=pipldata;AccountKey=lg9Q9j97R0C7M4CFKwUaj+VTXe6uHCYTNdrb289x97ZK2DoNom/4y9HR85t+AStTBNEMQ==;Endpointsuf]sfix=core.windows.net\"\n",
    "container_name = \"data1\"\n",
    "blob_name = \"googleplaystore.csv\"\n",
    "\n",
    "# Create BlobServiceClient\n",
    "blob_service_client = BlobServiceClient.from_connection_string(connection_string)\n",
    "\n",
    "# Get the blob client\n",
    "blob_client = blob_service_client.get_blob_client(container=container_name, blob=blob_name)\n",
    "\n",
    "# Download blob content\n",
    "blob_data = blob_client.download_blob().readall()\n",
    "\n",
    "# Load data into a DataFrame\n",
    "data = pd.read_csv(io.BytesIO(blob_data))\n"
   ]
  },
  {
   "cell_type": "code",
   "execution_count": null,
   "metadata": {
    "application/vnd.databricks.v1+cell": {
     "cellMetadata": {
      "byteLimit": 2048000,
      "rowLimit": 10000
     },
     "inputWidgets": {},
     "nuid": "7b346052-343e-48ed-9144-e65560eaa689",
     "showTitle": false,
     "title": ""
    }
   },
   "outputs": [
    {
     "name": "stdout",
     "output_type": "stream",
     "text": [
      "azure-storage-blob                12.22.0\n"
     ]
    }
   ],
   "source": [
    "%pip list | grep azure-storage-blob\n"
   ]
  },
  {
   "cell_type": "code",
   "execution_count": null,
   "metadata": {
    "application/vnd.databricks.v1+cell": {
     "cellMetadata": {
      "byteLimit": 2048000,
      "rowLimit": 10000
     },
     "inputWidgets": {},
     "nuid": "2e21d4d4-f0c8-47c8-9fd9-dd559970709e",
     "showTitle": false,
     "title": ""
    }
   },
   "outputs": [
    {
     "name": "stdout",
     "output_type": "stream",
     "text": [
      "True\n"
     ]
    }
   ],
   "source": [
    "import pkg_resources\n",
    "\n",
    "installed_packages = pkg_resources.working_set\n",
    "installed_package_names = {package.project_name for package in installed_packages}\n",
    "\n",
    "print(\"azure-storage-blob\" in installed_package_names)\n"
   ]
  },
  {
   "cell_type": "code",
   "execution_count": null,
   "metadata": {
    "application/vnd.databricks.v1+cell": {
     "cellMetadata": {
      "byteLimit": 2048000,
      "rowLimit": 10000
     },
     "inputWidgets": {},
     "nuid": "3569ac7e-74c2-4ca5-a5a4-01514a328972",
     "showTitle": false,
     "title": ""
    }
   },
   "outputs": [
    {
     "name": "stdout",
     "output_type": "stream",
     "text": [
      "azure-storage-blob module imported successfully.\n"
     ]
    }
   ],
   "source": [
    "from azure.storage.blob import BlobServiceClient\n",
    "\n",
    "print(\"azure-storage-blob module imported successfully.\")\n"
   ]
  },
  {
   "cell_type": "code",
   "execution_count": null,
   "metadata": {
    "application/vnd.databricks.v1+cell": {
     "cellMetadata": {
      "byteLimit": 2048000,
      "rowLimit": 10000
     },
     "inputWidgets": {},
     "nuid": "091d4b75-8c8f-4d14-8752-220d7c6fd82b",
     "showTitle": false,
     "title": ""
    }
   },
   "outputs": [],
   "source": [
    "from azure.storage.blob import BlobServiceClient\n",
    "import pandas as pd\n",
    "import io\n",
    "\n",
    "# Define connection parameters\n",
    "connection_string = \"DefaultEndpointsProtocol=https;AccountName=pipowderdata;AccountKey=HQ64OxOUbl7R0C7M4CFKwUaj+5hg70SHCYTNdrb289x97ZK2DoNom/4y9HR85t+AStTBNEMQ==;EndpointSuffix=core.windows.net\"\n",
    "container_name = \"data\"\n",
    "blob_name = \"googleplaystore.csv\"\n",
    "\n",
    "# Create BlobServiceClient\n",
    "blob_service_client = BlobServiceClient.from_connection_string(connection_string)\n",
    "\n",
    "# Get the blob client\n",
    "blob_client = blob_service_client.get_blob_client(container=container_name, blob=blob_name)\n",
    "\n",
    "# Download blob content\n",
    "blob_data = blob_client.download_blob().readall()\n",
    "\n",
    "# Load data into a DataFrame\n",
    "data = pd.read_csv(io.BytesIO(blob_data))\n"
   ]
  },
  {
   "cell_type": "code",
   "execution_count": null,
   "metadata": {
    "application/vnd.databricks.v1+cell": {
     "cellMetadata": {
      "byteLimit": 2048000,
      "rowLimit": 10000
     },
     "inputWidgets": {},
     "nuid": "208b12ee-66ca-4ac8-84f7-f15f2f79d4f3",
     "showTitle": false,
     "title": ""
    }
   },
   "outputs": [
    {
     "data": {
      "text/html": [
       "<div>\n",
       "<style scoped>\n",
       "    .dataframe tbody tr th:only-of-type {\n",
       "        vertical-align: middle;\n",
       "    }\n",
       "\n",
       "    .dataframe tbody tr th {\n",
       "        vertical-align: top;\n",
       "    }\n",
       "\n",
       "    .dataframe thead th {\n",
       "        text-align: right;\n",
       "    }\n",
       "</style>\n",
       "<table border=\"1\" class=\"dataframe\">\n",
       "  <thead>\n",
       "    <tr style=\"text-align: right;\">\n",
       "      <th></th>\n",
       "      <th>App</th>\n",
       "      <th>Category</th>\n",
       "      <th>Rating</th>\n",
       "      <th>Reviews</th>\n",
       "      <th>Size</th>\n",
       "      <th>Installs</th>\n",
       "      <th>Type</th>\n",
       "      <th>Price</th>\n",
       "      <th>Content Rating</th>\n",
       "      <th>Genres</th>\n",
       "      <th>Last Updated</th>\n",
       "      <th>Current Ver</th>\n",
       "      <th>Android Ver</th>\n",
       "    </tr>\n",
       "  </thead>\n",
       "  <tbody>\n",
       "    <tr>\n",
       "      <th>0</th>\n",
       "      <td>Photo Editor &amp; Candy Camera &amp; Grid &amp; ScrapBook</td>\n",
       "      <td>ART_AND_DESIGN</td>\n",
       "      <td>4.1</td>\n",
       "      <td>159</td>\n",
       "      <td>19M</td>\n",
       "      <td>10,000+</td>\n",
       "      <td>Free</td>\n",
       "      <td>0</td>\n",
       "      <td>Everyone</td>\n",
       "      <td>Art &amp; Design</td>\n",
       "      <td>January 7, 2018</td>\n",
       "      <td>1.0.0</td>\n",
       "      <td>4.0.3 and up</td>\n",
       "    </tr>\n",
       "    <tr>\n",
       "      <th>1</th>\n",
       "      <td>Coloring book moana</td>\n",
       "      <td>ART_AND_DESIGN</td>\n",
       "      <td>3.9</td>\n",
       "      <td>967</td>\n",
       "      <td>14M</td>\n",
       "      <td>500,000+</td>\n",
       "      <td>Free</td>\n",
       "      <td>0</td>\n",
       "      <td>Everyone</td>\n",
       "      <td>Art &amp; Design;Pretend Play</td>\n",
       "      <td>January 15, 2018</td>\n",
       "      <td>2.0.0</td>\n",
       "      <td>4.0.3 and up</td>\n",
       "    </tr>\n",
       "    <tr>\n",
       "      <th>2</th>\n",
       "      <td>U Launcher Lite – FREE Live Cool Themes, Hide ...</td>\n",
       "      <td>ART_AND_DESIGN</td>\n",
       "      <td>4.7</td>\n",
       "      <td>87510</td>\n",
       "      <td>8.7M</td>\n",
       "      <td>5,000,000+</td>\n",
       "      <td>Free</td>\n",
       "      <td>0</td>\n",
       "      <td>Everyone</td>\n",
       "      <td>Art &amp; Design</td>\n",
       "      <td>August 1, 2018</td>\n",
       "      <td>1.2.4</td>\n",
       "      <td>4.0.3 and up</td>\n",
       "    </tr>\n",
       "    <tr>\n",
       "      <th>3</th>\n",
       "      <td>Sketch - Draw &amp; Paint</td>\n",
       "      <td>ART_AND_DESIGN</td>\n",
       "      <td>4.5</td>\n",
       "      <td>215644</td>\n",
       "      <td>25M</td>\n",
       "      <td>50,000,000+</td>\n",
       "      <td>Free</td>\n",
       "      <td>0</td>\n",
       "      <td>Teen</td>\n",
       "      <td>Art &amp; Design</td>\n",
       "      <td>June 8, 2018</td>\n",
       "      <td>Varies with device</td>\n",
       "      <td>4.2 and up</td>\n",
       "    </tr>\n",
       "    <tr>\n",
       "      <th>4</th>\n",
       "      <td>Pixel Draw - Number Art Coloring Book</td>\n",
       "      <td>ART_AND_DESIGN</td>\n",
       "      <td>4.3</td>\n",
       "      <td>967</td>\n",
       "      <td>2.8M</td>\n",
       "      <td>100,000+</td>\n",
       "      <td>Free</td>\n",
       "      <td>0</td>\n",
       "      <td>Everyone</td>\n",
       "      <td>Art &amp; Design;Creativity</td>\n",
       "      <td>June 20, 2018</td>\n",
       "      <td>1.1</td>\n",
       "      <td>4.4 and up</td>\n",
       "    </tr>\n",
       "  </tbody>\n",
       "</table>\n",
       "</div>"
      ]
     },
     "metadata": {
      "application/vnd.databricks.v1+output": {
       "addedWidgets": {},
       "arguments": {},
       "data": "<div>\n<style scoped>\n    .dataframe tbody tr th:only-of-type {\n        vertical-align: middle;\n    }\n\n    .dataframe tbody tr th {\n        vertical-align: top;\n    }\n\n    .dataframe thead th {\n        text-align: right;\n    }\n</style>\n<table border=\"1\" class=\"dataframe\">\n  <thead>\n    <tr style=\"text-align: right;\">\n      <th></th>\n      <th>App</th>\n      <th>Category</th>\n      <th>Rating</th>\n      <th>Reviews</th>\n      <th>Size</th>\n      <th>Installs</th>\n      <th>Type</th>\n      <th>Price</th>\n      <th>Content Rating</th>\n      <th>Genres</th>\n      <th>Last Updated</th>\n      <th>Current Ver</th>\n      <th>Android Ver</th>\n    </tr>\n  </thead>\n  <tbody>\n    <tr>\n      <th>0</th>\n      <td>Photo Editor &amp; Candy Camera &amp; Grid &amp; ScrapBook</td>\n      <td>ART_AND_DESIGN</td>\n      <td>4.1</td>\n      <td>159</td>\n      <td>19M</td>\n      <td>10,000+</td>\n      <td>Free</td>\n      <td>0</td>\n      <td>Everyone</td>\n      <td>Art &amp; Design</td>\n      <td>January 7, 2018</td>\n      <td>1.0.0</td>\n      <td>4.0.3 and up</td>\n    </tr>\n    <tr>\n      <th>1</th>\n      <td>Coloring book moana</td>\n      <td>ART_AND_DESIGN</td>\n      <td>3.9</td>\n      <td>967</td>\n      <td>14M</td>\n      <td>500,000+</td>\n      <td>Free</td>\n      <td>0</td>\n      <td>Everyone</td>\n      <td>Art &amp; Design;Pretend Play</td>\n      <td>January 15, 2018</td>\n      <td>2.0.0</td>\n      <td>4.0.3 and up</td>\n    </tr>\n    <tr>\n      <th>2</th>\n      <td>U Launcher Lite – FREE Live Cool Themes, Hide ...</td>\n      <td>ART_AND_DESIGN</td>\n      <td>4.7</td>\n      <td>87510</td>\n      <td>8.7M</td>\n      <td>5,000,000+</td>\n      <td>Free</td>\n      <td>0</td>\n      <td>Everyone</td>\n      <td>Art &amp; Design</td>\n      <td>August 1, 2018</td>\n      <td>1.2.4</td>\n      <td>4.0.3 and up</td>\n    </tr>\n    <tr>\n      <th>3</th>\n      <td>Sketch - Draw &amp; Paint</td>\n      <td>ART_AND_DESIGN</td>\n      <td>4.5</td>\n      <td>215644</td>\n      <td>25M</td>\n      <td>50,000,000+</td>\n      <td>Free</td>\n      <td>0</td>\n      <td>Teen</td>\n      <td>Art &amp; Design</td>\n      <td>June 8, 2018</td>\n      <td>Varies with device</td>\n      <td>4.2 and up</td>\n    </tr>\n    <tr>\n      <th>4</th>\n      <td>Pixel Draw - Number Art Coloring Book</td>\n      <td>ART_AND_DESIGN</td>\n      <td>4.3</td>\n      <td>967</td>\n      <td>2.8M</td>\n      <td>100,000+</td>\n      <td>Free</td>\n      <td>0</td>\n      <td>Everyone</td>\n      <td>Art &amp; Design;Creativity</td>\n      <td>June 20, 2018</td>\n      <td>1.1</td>\n      <td>4.4 and up</td>\n    </tr>\n  </tbody>\n</table>\n</div>",
       "datasetInfos": [],
       "metadata": {},
       "removedWidgets": [],
       "textData": null,
       "type": "htmlSandbox"
      }
     },
     "output_type": "display_data"
    }
   ],
   "source": [
    "data.head()"
   ]
  },
  {
   "cell_type": "code",
   "execution_count": null,
   "metadata": {
    "application/vnd.databricks.v1+cell": {
     "cellMetadata": {
      "byteLimit": 2048000,
      "rowLimit": 10000
     },
     "inputWidgets": {},
     "nuid": "b3e6ed9d-b2f3-4dca-b89b-bce0261e1bb5",
     "showTitle": false,
     "title": ""
    }
   },
   "outputs": [],
   "source": [
    "from pyspark.sql import SparkSession\n",
    "spark = SparkSession.builder.appName(\"Playstore\").getOrCreate()"
   ]
  },
  {
   "cell_type": "code",
   "execution_count": null,
   "metadata": {
    "application/vnd.databricks.v1+cell": {
     "cellMetadata": {
      "byteLimit": 2048000,
      "rowLimit": 10000
     },
     "inputWidgets": {},
     "nuid": "3919e860-8e38-48ea-849e-3674141f85b5",
     "showTitle": false,
     "title": ""
    }
   },
   "outputs": [
    {
     "name": "stdout",
     "output_type": "stream",
     "text": [
      "+--------------------+--------------+------+-------+----+-----------+----+-----+--------------+--------------------+------------------+------------------+------------+\n",
      "|                 App|      Category|Rating|Reviews|Size|   Installs|Type|Price|Content Rating|              Genres|      Last Updated|       Current Ver| Android Ver|\n",
      "+--------------------+--------------+------+-------+----+-----------+----+-----+--------------+--------------------+------------------+------------------+------------+\n",
      "|Photo Editor & Ca...|ART_AND_DESIGN|   4.1|    159| 19M|    10,000+|Free|    0|      Everyone|        Art & Design|   January 7, 2018|             1.0.0|4.0.3 and up|\n",
      "| Coloring book moana|ART_AND_DESIGN|   3.9|    967| 14M|   500,000+|Free|    0|      Everyone|Art & Design;Pret...|  January 15, 2018|             2.0.0|4.0.3 and up|\n",
      "|U Launcher Lite –...|ART_AND_DESIGN|   4.7|  87510|8.7M| 5,000,000+|Free|    0|      Everyone|        Art & Design|    August 1, 2018|             1.2.4|4.0.3 and up|\n",
      "|Sketch - Draw & P...|ART_AND_DESIGN|   4.5| 215644| 25M|50,000,000+|Free|    0|          Teen|        Art & Design|      June 8, 2018|Varies with device|  4.2 and up|\n",
      "|Pixel Draw - Numb...|ART_AND_DESIGN|   4.3|    967|2.8M|   100,000+|Free|    0|      Everyone|Art & Design;Crea...|     June 20, 2018|               1.1|  4.4 and up|\n",
      "|Paper flowers ins...|ART_AND_DESIGN|   4.4|    167|5.6M|    50,000+|Free|    0|      Everyone|        Art & Design|    March 26, 2017|               1.0|  2.3 and up|\n",
      "|Smoke Effect Phot...|ART_AND_DESIGN|   3.8|    178| 19M|    50,000+|Free|    0|      Everyone|        Art & Design|    April 26, 2018|               1.1|4.0.3 and up|\n",
      "|    Infinite Painter|ART_AND_DESIGN|   4.1|  36815| 29M| 1,000,000+|Free|    0|      Everyone|        Art & Design|     June 14, 2018|          6.1.61.1|  4.2 and up|\n",
      "|Garden Coloring Book|ART_AND_DESIGN|   4.4|  13791| 33M| 1,000,000+|Free|    0|      Everyone|        Art & Design|September 20, 2017|             2.9.2|  3.0 and up|\n",
      "|Kids Paint Free -...|ART_AND_DESIGN|   4.7|    121|3.1M|    10,000+|Free|    0|      Everyone|Art & Design;Crea...|      July 3, 2018|               2.8|4.0.3 and up|\n",
      "|Text on Photo - F...|ART_AND_DESIGN|   4.4|  13880| 28M| 1,000,000+|Free|    0|      Everyone|        Art & Design|  October 27, 2017|             1.0.4|  4.1 and up|\n",
      "|Name Art Photo Ed...|ART_AND_DESIGN|   4.4|   8788| 12M| 1,000,000+|Free|    0|      Everyone|        Art & Design|     July 31, 2018|            1.0.15|  4.0 and up|\n",
      "|Tattoo Name On My...|ART_AND_DESIGN|   4.2|  44829| 20M|10,000,000+|Free|    0|          Teen|        Art & Design|     April 2, 2018|               3.8|  4.1 and up|\n",
      "|Mandala Coloring ...|ART_AND_DESIGN|   4.6|   4326| 21M|   100,000+|Free|    0|      Everyone|        Art & Design|     June 26, 2018|             1.0.4|  4.4 and up|\n",
      "|3D Color Pixel by...|ART_AND_DESIGN|   4.4|   1518| 37M|   100,000+|Free|    0|      Everyone|        Art & Design|    August 3, 2018|             1.2.3|  2.3 and up|\n",
      "|Learn To Draw Kaw...|ART_AND_DESIGN|   3.2|     55|2.7M|     5,000+|Free|    0|      Everyone|        Art & Design|      June 6, 2018|              null|  4.2 and up|\n",
      "|Photo Designer - ...|ART_AND_DESIGN|   4.7|   3632|5.5M|   500,000+|Free|    0|      Everyone|        Art & Design|     July 31, 2018|               3.1|  4.1 and up|\n",
      "|350 Diy Room Deco...|ART_AND_DESIGN|   4.5|     27| 17M|    10,000+|Free|    0|      Everyone|        Art & Design|  November 7, 2017|               1.0|  2.3 and up|\n",
      "|FlipaClip - Carto...|ART_AND_DESIGN|   4.3| 194216| 39M| 5,000,000+|Free|    0|      Everyone|        Art & Design|    August 3, 2018|             2.2.5|4.0.3 and up|\n",
      "|        ibis Paint X|ART_AND_DESIGN|   4.6| 224399| 31M|10,000,000+|Free|    0|      Everyone|        Art & Design|     July 30, 2018|             5.5.4|  4.1 and up|\n",
      "+--------------------+--------------+------+-------+----+-----------+----+-----+--------------+--------------------+------------------+------------------+------------+\n",
      "only showing top 20 rows\n",
      "\n"
     ]
    }
   ],
   "source": [
    "df = spark.createDataFrame(data)\n",
    "df.show()"
   ]
  },
  {
   "cell_type": "code",
   "execution_count": null,
   "metadata": {
    "application/vnd.databricks.v1+cell": {
     "cellMetadata": {
      "byteLimit": 2048000,
      "rowLimit": 10000
     },
     "inputWidgets": {},
     "nuid": "0ab949e6-d9e3-4820-a23d-c073be605fe0",
     "showTitle": false,
     "title": ""
    }
   },
   "outputs": [
    {
     "name": "stdout",
     "output_type": "stream",
     "text": [
      "Out[48]: 10841"
     ]
    }
   ],
   "source": [
    "df.count()\n"
   ]
  },
  {
   "cell_type": "code",
   "execution_count": null,
   "metadata": {
    "application/vnd.databricks.v1+cell": {
     "cellMetadata": {
      "byteLimit": 2048000,
      "rowLimit": 10000
     },
     "inputWidgets": {},
     "nuid": "03a3587b-c7ef-418e-b5a8-a3c6256d7ecb",
     "showTitle": false,
     "title": ""
    }
   },
   "outputs": [
    {
     "name": "stdout",
     "output_type": "stream",
     "text": [
      "root\n",
      " |-- App: string (nullable = true)\n",
      " |-- Category: string (nullable = true)\n",
      " |-- Rating: double (nullable = true)\n",
      " |-- Reviews: string (nullable = true)\n",
      " |-- Size: string (nullable = true)\n",
      " |-- Installs: string (nullable = true)\n",
      " |-- Type: string (nullable = true)\n",
      " |-- Price: string (nullable = true)\n",
      " |-- Content Rating: string (nullable = true)\n",
      " |-- Genres: string (nullable = true)\n",
      " |-- Last Updated: string (nullable = true)\n",
      " |-- Current Ver: string (nullable = true)\n",
      " |-- Android Ver: string (nullable = true)\n",
      "\n"
     ]
    }
   ],
   "source": [
    "df.printSchema()"
   ]
  },
  {
   "cell_type": "code",
   "execution_count": null,
   "metadata": {
    "application/vnd.databricks.v1+cell": {
     "cellMetadata": {
      "byteLimit": 2048000,
      "rowLimit": 10000
     },
     "inputWidgets": {},
     "nuid": "80939d6a-fc7a-423d-92ba-3dcac126c343",
     "showTitle": false,
     "title": ""
    }
   },
   "outputs": [],
   "source": [
    "from pyspark.sql.window import Window\n",
    "df_filtered = df.filter(col(\"Reviews\").isNotNull() & col(\"Current Ver\").isNotNull())\n",
    "\n",
    "# Define a window partitioned by 'App' and ordered by 'Reviews' descending\n",
    "windowSpec = Window.partitionBy(\"App\", \"Current Ver\").orderBy(col(\"Reviews\").desc())\n",
    "\n",
    "# Add a row number column to identify the top entry per 'App' and 'Current Ver'\n",
    "df_with_row_num = df_filtered.withColumn(\"row_number\", row_number().over(windowSpec))\n",
    "\n",
    "# Filter to keep only the top entry per 'App' and 'Current Ver'\n",
    "df1 = df_with_row_num.filter(col(\"row_number\") == 1).drop(\"row_number\")"
   ]
  },
  {
   "cell_type": "code",
   "execution_count": null,
   "metadata": {
    "application/vnd.databricks.v1+cell": {
     "cellMetadata": {
      "byteLimit": 2048000,
      "rowLimit": 10000
     },
     "inputWidgets": {},
     "nuid": "7c7eb23e-774a-441f-8576-70617fc4c857",
     "showTitle": false,
     "title": ""
    }
   },
   "outputs": [
    {
     "name": "stdout",
     "output_type": "stream",
     "text": [
      "Out[52]: 9678"
     ]
    }
   ],
   "source": [
    "df1.count()"
   ]
  },
  {
   "cell_type": "code",
   "execution_count": null,
   "metadata": {
    "application/vnd.databricks.v1+cell": {
     "cellMetadata": {
      "byteLimit": 2048000,
      "rowLimit": 10000
     },
     "inputWidgets": {},
     "nuid": "727e73b5-a4dd-4562-8c2e-e3cfb15b0848",
     "showTitle": false,
     "title": ""
    }
   },
   "outputs": [],
   "source": [
    "df1 = df1.drop('Current Ver', 'Android Ver', 'Size', 'Content Rating', 'Last Updated')"
   ]
  },
  {
   "cell_type": "code",
   "execution_count": null,
   "metadata": {
    "application/vnd.databricks.v1+cell": {
     "cellMetadata": {
      "byteLimit": 2048000,
      "rowLimit": 10000
     },
     "inputWidgets": {},
     "nuid": "c92a756e-de24-4155-95a1-a1cdc9e73f6e",
     "showTitle": false,
     "title": ""
    }
   },
   "outputs": [
    {
     "name": "stdout",
     "output_type": "stream",
     "text": [
      "+--------------------+-------------------+------+-------+-----------+----+-----+-----------------+\n",
      "|                 App|           Category|Rating|Reviews|   Installs|Type|Price|           Genres|\n",
      "+--------------------+-------------------+------+-------+-----------+----+-----+-----------------+\n",
      "|\"i DT\" Fútbol. To...|             SPORTS|  null|     27|       500+|Free|    0|           Sports|\n",
      "|+Download 4 Insta...|             SOCIAL|   4.5|  40467| 1,000,000+|Free|    0|           Social|\n",
      "|- Free Comics - C...|             COMICS|   3.5|    115|    10,000+|Free|    0|           Comics|\n",
      "|                  .R|              TOOLS|   4.5|    259|    10,000+|Free|    0|            Tools|\n",
      "|              /u/app|      COMMUNICATION|   4.7|    573|    10,000+|Free|    0|    Communication|\n",
      "|              058.ba| NEWS_AND_MAGAZINES|   4.4|     27|       100+|Free|    0| News & Magazines|\n",
      "|      1. FC Köln App|             SPORTS|   4.6|   2019|   100,000+|Free|    0|           Sports|\n",
      "|10 Best Foods for...| HEALTH_AND_FITNESS|   4.0|   2490|   500,000+|Free|    0| Health & Fitness|\n",
      "|10 Minutes a Day ...|             FAMILY|   4.1|    681|   100,000+|Free|    0|        Education|\n",
      "|10 WPM Amateur ha...|      COMMUNICATION|   3.5|     10|       100+|Paid|$1.49|    Communication|\n",
      "|10,000 Quotes DB ...|BOOKS_AND_REFERENCE|   4.1|     70|       500+|Paid|$0.99|Books & Reference|\n",
      "|100 Doors of Revenge|             FAMILY|   4.1| 105766|10,000,000+|Free|    0|           Puzzle|\n",
      "|     100+ C Programs|             FAMILY|   4.2|     20|     5,000+|Free|    0|        Education|\n",
      "|100000+ Messages ...|          LIFESTYLE|   3.7|    121|    10,000+|Free|    0|        Lifestyle|\n",
      "|101 C Programming...|             FAMILY|   4.6|    498|    50,000+|Free|    0|        Education|\n",
      "|104 Looking for a...|           BUSINESS|   4.4|  74359| 1,000,000+|Free|    0|         Business|\n",
      "|                11st|           SHOPPING|   3.8|  48732|10,000,000+|Free|    0|         Shopping|\n",
      "|12 Step Meditatio...|          LIFESTYLE|   4.7|    759|    50,000+|Free|    0|        Lifestyle|\n",
      "|       14thStreetVet|            MEDICAL|  null|      0|         5+|Free|    0|          Medical|\n",
      "|17th Edition Cabl...|BOOKS_AND_REFERENCE|   4.4|     47|     1,000+|Paid|$3.08|Books & Reference|\n",
      "+--------------------+-------------------+------+-------+-----------+----+-----+-----------------+\n",
      "only showing top 20 rows\n",
      "\n"
     ]
    }
   ],
   "source": [
    "df1.show()"
   ]
  },
  {
   "cell_type": "code",
   "execution_count": null,
   "metadata": {
    "application/vnd.databricks.v1+cell": {
     "cellMetadata": {
      "byteLimit": 2048000,
      "rowLimit": 10000
     },
     "inputWidgets": {},
     "nuid": "9a78c8a2-a491-4680-b816-8cd01100ad46",
     "showTitle": false,
     "title": ""
    }
   },
   "outputs": [
    {
     "name": "stdout",
     "output_type": "stream",
     "text": [
      "root\n",
      " |-- App: string (nullable = true)\n",
      " |-- Category: string (nullable = true)\n",
      " |-- Rating: double (nullable = true)\n",
      " |-- Reviews: string (nullable = true)\n",
      " |-- Installs: string (nullable = true)\n",
      " |-- Type: string (nullable = true)\n",
      " |-- Price: string (nullable = true)\n",
      " |-- Genres: string (nullable = true)\n",
      "\n"
     ]
    }
   ],
   "source": [
    "df1.printSchema()\n"
   ]
  },
  {
   "cell_type": "code",
   "execution_count": null,
   "metadata": {
    "application/vnd.databricks.v1+cell": {
     "cellMetadata": {
      "byteLimit": 2048000,
      "rowLimit": 10000
     },
     "inputWidgets": {},
     "nuid": "9cd05267-9f52-4bd5-b25a-22e833b21d7e",
     "showTitle": false,
     "title": ""
    }
   },
   "outputs": [],
   "source": [
    "from pyspark.sql.functions import *\n",
    "from pyspark.sql.types import *\n",
    "\n",
    "df1 = df1.withColumn(\"Reviews\", df[\"Reviews\"].cast(IntegerType()))\\\n",
    "    .withColumn(\"Installs\", regexp_replace(\"Installs\", \"[^0-9]\", \"\").cast(IntegerType()))\\\n",
    "    .withColumn(\"Price\", regexp_replace(\"Price\", \"[$]\", \"\").cast(IntegerType()))"
   ]
  },
  {
   "cell_type": "code",
   "execution_count": null,
   "metadata": {
    "application/vnd.databricks.v1+cell": {
     "cellMetadata": {
      "byteLimit": 2048000,
      "rowLimit": 10000
     },
     "inputWidgets": {},
     "nuid": "87d769e4-b59a-4647-a844-c05f4c8b080f",
     "showTitle": false,
     "title": ""
    }
   },
   "outputs": [
    {
     "name": "stdout",
     "output_type": "stream",
     "text": [
      "root\n",
      " |-- App: string (nullable = true)\n",
      " |-- Category: string (nullable = true)\n",
      " |-- Rating: double (nullable = true)\n",
      " |-- Reviews: integer (nullable = true)\n",
      " |-- Installs: integer (nullable = true)\n",
      " |-- Type: string (nullable = true)\n",
      " |-- Price: integer (nullable = true)\n",
      " |-- Genres: string (nullable = true)\n",
      "\n"
     ]
    }
   ],
   "source": [
    "df1.printSchema()"
   ]
  },
  {
   "cell_type": "code",
   "execution_count": null,
   "metadata": {
    "application/vnd.databricks.v1+cell": {
     "cellMetadata": {
      "byteLimit": 2048000,
      "rowLimit": 10000
     },
     "inputWidgets": {},
     "nuid": "2a7d5a1d-911e-4f7f-9d8c-3337de8841b8",
     "showTitle": false,
     "title": ""
    }
   },
   "outputs": [],
   "source": [
    "df1 = df1.withColumn(\n",
    "    \"Type\",\n",
    "    when(col(\"Type\").isNull() | (col(\"Type\") == 0), \"Free\").otherwise(col(\"Type\"))\n",
    ")"
   ]
  },
  {
   "cell_type": "code",
   "execution_count": null,
   "metadata": {
    "application/vnd.databricks.v1+cell": {
     "cellMetadata": {
      "byteLimit": 2048000,
      "rowLimit": 10000
     },
     "inputWidgets": {},
     "nuid": "3a6e27b9-e633-4249-9b40-405ca1492246",
     "showTitle": false,
     "title": ""
    }
   },
   "outputs": [
    {
     "name": "stdout",
     "output_type": "stream",
     "text": [
      "+--------------------+-------------------+------+-------+--------+----+-----+-----------------+\n",
      "|                 App|           Category|Rating|Reviews|Installs|Type|Price|           Genres|\n",
      "+--------------------+-------------------+------+-------+--------+----+-----+-----------------+\n",
      "|\"i DT\" Fútbol. To...|             SPORTS|  null|     27|     500|Free|    0|           Sports|\n",
      "|+Download 4 Insta...|             SOCIAL|   4.5|  40467| 1000000|Free|    0|           Social|\n",
      "|- Free Comics - C...|             COMICS|   3.5|    115|   10000|Free|    0|           Comics|\n",
      "|                  .R|              TOOLS|   4.5|    259|   10000|Free|    0|            Tools|\n",
      "|              /u/app|      COMMUNICATION|   4.7|    573|   10000|Free|    0|    Communication|\n",
      "|              058.ba| NEWS_AND_MAGAZINES|   4.4|     27|     100|Free|    0| News & Magazines|\n",
      "|      1. FC Köln App|             SPORTS|   4.6|   2019|  100000|Free|    0|           Sports|\n",
      "|10 Best Foods for...| HEALTH_AND_FITNESS|   4.0|   2490|  500000|Free|    0| Health & Fitness|\n",
      "|10 Minutes a Day ...|             FAMILY|   4.1|    681|  100000|Free|    0|        Education|\n",
      "|10 WPM Amateur ha...|      COMMUNICATION|   3.5|     10|     100|Paid|    1|    Communication|\n",
      "|10,000 Quotes DB ...|BOOKS_AND_REFERENCE|   4.1|     70|     500|Paid|    0|Books & Reference|\n",
      "|100 Doors of Revenge|             FAMILY|   4.1| 105766|10000000|Free|    0|           Puzzle|\n",
      "|     100+ C Programs|             FAMILY|   4.2|     20|    5000|Free|    0|        Education|\n",
      "|100000+ Messages ...|          LIFESTYLE|   3.7|    121|   10000|Free|    0|        Lifestyle|\n",
      "|101 C Programming...|             FAMILY|   4.6|    498|   50000|Free|    0|        Education|\n",
      "|104 Looking for a...|           BUSINESS|   4.4|  74359| 1000000|Free|    0|         Business|\n",
      "|                11st|           SHOPPING|   3.8|  48732|10000000|Free|    0|         Shopping|\n",
      "|12 Step Meditatio...|          LIFESTYLE|   4.7|    759|   50000|Free|    0|        Lifestyle|\n",
      "|       14thStreetVet|            MEDICAL|  null|      0|       5|Free|    0|          Medical|\n",
      "|17th Edition Cabl...|BOOKS_AND_REFERENCE|   4.4|     47|    1000|Paid|    3|Books & Reference|\n",
      "+--------------------+-------------------+------+-------+--------+----+-----+-----------------+\n",
      "only showing top 20 rows\n",
      "\n"
     ]
    }
   ],
   "source": [
    "df1.show()"
   ]
  },
  {
   "cell_type": "code",
   "execution_count": null,
   "metadata": {
    "application/vnd.databricks.v1+cell": {
     "cellMetadata": {
      "byteLimit": 2048000,
      "rowLimit": 10000
     },
     "inputWidgets": {},
     "nuid": "93267453-bb6f-43e9-909d-70025a26dc27",
     "showTitle": false,
     "title": ""
    }
   },
   "outputs": [],
   "source": [
    "df1.createOrReplaceTempView(\"apps\")"
   ]
  },
  {
   "cell_type": "code",
   "execution_count": null,
   "metadata": {
    "application/vnd.databricks.v1+cell": {
     "cellMetadata": {
      "byteLimit": 2048000,
      "rowLimit": 10000
     },
     "inputWidgets": {},
     "nuid": "311ac67b-aff8-4b5d-a181-770abe369892",
     "showTitle": false,
     "title": ""
    }
   },
   "outputs": [
    {
     "name": "stdout",
     "output_type": "stream",
     "text": [
      "+--------------------+-------------------+------+-------+--------+----+-----+-----------------+\n",
      "|                 App|           Category|Rating|Reviews|Installs|Type|Price|           Genres|\n",
      "+--------------------+-------------------+------+-------+--------+----+-----+-----------------+\n",
      "|\"i DT\" Fútbol. To...|             SPORTS|  null|     27|     500|Free|    0|           Sports|\n",
      "|+Download 4 Insta...|             SOCIAL|   4.5|  40467| 1000000|Free|    0|           Social|\n",
      "|- Free Comics - C...|             COMICS|   3.5|    115|   10000|Free|    0|           Comics|\n",
      "|                  .R|              TOOLS|   4.5|    259|   10000|Free|    0|            Tools|\n",
      "|              /u/app|      COMMUNICATION|   4.7|    573|   10000|Free|    0|    Communication|\n",
      "|              058.ba| NEWS_AND_MAGAZINES|   4.4|     27|     100|Free|    0| News & Magazines|\n",
      "|      1. FC Köln App|             SPORTS|   4.6|   2019|  100000|Free|    0|           Sports|\n",
      "|10 Best Foods for...| HEALTH_AND_FITNESS|   4.0|   2490|  500000|Free|    0| Health & Fitness|\n",
      "|10 Minutes a Day ...|             FAMILY|   4.1|    681|  100000|Free|    0|        Education|\n",
      "|10 WPM Amateur ha...|      COMMUNICATION|   3.5|     10|     100|Paid|    1|    Communication|\n",
      "|10,000 Quotes DB ...|BOOKS_AND_REFERENCE|   4.1|     70|     500|Paid|    0|Books & Reference|\n",
      "|100 Doors of Revenge|             FAMILY|   4.1| 105766|10000000|Free|    0|           Puzzle|\n",
      "|     100+ C Programs|             FAMILY|   4.2|     20|    5000|Free|    0|        Education|\n",
      "|100000+ Messages ...|          LIFESTYLE|   3.7|    121|   10000|Free|    0|        Lifestyle|\n",
      "|101 C Programming...|             FAMILY|   4.6|    498|   50000|Free|    0|        Education|\n",
      "|104 Looking for a...|           BUSINESS|   4.4|  74359| 1000000|Free|    0|         Business|\n",
      "|                11st|           SHOPPING|   3.8|  48732|10000000|Free|    0|         Shopping|\n",
      "|12 Step Meditatio...|          LIFESTYLE|   4.7|    759|   50000|Free|    0|        Lifestyle|\n",
      "|       14thStreetVet|            MEDICAL|  null|      0|       5|Free|    0|          Medical|\n",
      "|17th Edition Cabl...|BOOKS_AND_REFERENCE|   4.4|     47|    1000|Paid|    3|Books & Reference|\n",
      "+--------------------+-------------------+------+-------+--------+----+-----+-----------------+\n",
      "only showing top 20 rows\n",
      "\n"
     ]
    }
   ],
   "source": [
    "spark.sql(\"select * from apps\").show()"
   ]
  },
  {
   "cell_type": "code",
   "execution_count": null,
   "metadata": {
    "application/vnd.databricks.v1+cell": {
     "cellMetadata": {
      "byteLimit": 2048000,
      "rowLimit": 10000
     },
     "inputWidgets": {},
     "nuid": "b3eb3caf-d035-4d75-a177-566df3a27f78",
     "showTitle": false,
     "title": ""
    }
   },
   "outputs": [],
   "source": [
    "\n",
    "from pyspark.sql.functions import *\n",
    "\n",
    "# Azure SQL COnnection\n",
    "jdbcHostname = \"datenew.database.windows.net\"\n",
    "jdbcDatabase = \"playdata\"\n",
    "jdbcPort = 1432\n",
    "username = \"justin\"\n",
    "password = \"just@22042\"\n",
    "jdbcUrl = \"jdbc:sqlserver://{0}:{1};database={2}\".format(jdbcHostname, jdbcPort, jdbcDatabase)\n",
    "connectionProperties = {\n",
    "  \"user\" : username,\n",
    "  \"password\" : password,\n",
    "  \"driver\" : \"com.microsoft.sqlserver.jdbc.PostgreSQLServerDriver\"\n",
    "}\n",
    "\n",
    "\n"
   ]
  },
  {
   "cell_type": "code",
   "execution_count": null,
   "metadata": {
    "application/vnd.databricks.v1+cell": {
     "cellMetadata": {
      "byteLimit": 2048000,
      "rowLimit": 10000
     },
     "inputWidgets": {},
     "nuid": "e157508d-9148-499c-b89b-e65e5a900239",
     "showTitle": false,
     "title": ""
    }
   },
   "outputs": [],
   "source": [
    "# Write DataFrame to Azure SQL Database\n",
    "df1.write \\\n",
    "  .mode(\"overwrite\") \\\n",
    "  .jdbc(url=jdbcUrl, table=\"data3\", properties=connectionProperties)"
   ]
  },
  {
   "cell_type": "markdown",
   "metadata": {
    "application/vnd.databricks.v1+cell": {
     "cellMetadata": {},
     "inputWidgets": {},
     "nuid": "bb606530-85fd-4f64-8566-3c9cfa2cd34f",
     "showTitle": false,
     "title": ""
    }
   },
   "source": [
    " Top 10 apps with most reviews"
   ]
  },
  {
   "cell_type": "code",
   "execution_count": null,
   "metadata": {
    "application/vnd.databricks.v1+cell": {
     "cellMetadata": {
      "byteLimit": 2048000,
      "implicitDf": true,
      "rowLimit": 10000
     },
     "inputWidgets": {},
     "nuid": "d28c8940-335b-4146-9c79-b2a49b6c73f5",
     "showTitle": false,
     "title": ""
    }
   },
   "outputs": [
    {
     "data": {
      "text/html": [
       "<style scoped>\n",
       "  .table-result-container {\n",
       "    max-height: 300px;\n",
       "    overflow: auto;\n",
       "  }\n",
       "  table, th, td {\n",
       "    border: 1px solid black;\n",
       "    border-collapse: collapse;\n",
       "  }\n",
       "  th, td {\n",
       "    padding: 5px;\n",
       "  }\n",
       "  th {\n",
       "    text-align: left;\n",
       "  }\n",
       "</style><div class='table-result-container'><table class='table-result'><thead style='background-color: white'><tr><th>App</th><th>Reviews</th></tr></thead><tbody><tr><td>Facebook</td><td>78158306</td></tr><tr><td>WhatsApp Messenger</td><td>69119316</td></tr><tr><td>Instagram</td><td>66577446</td></tr><tr><td>Messenger – Text and Video Chat for Free</td><td>56646578</td></tr><tr><td>Clash of Clans</td><td>44893888</td></tr><tr><td>Clean Master- Space Cleaner & Antivirus</td><td>42916526</td></tr><tr><td>Subway Surfers</td><td>27725352</td></tr><tr><td>YouTube</td><td>25655305</td></tr><tr><td>Security Master - Antivirus, VPN, AppLock, Booster</td><td>24900999</td></tr><tr><td>Clash Royale</td><td>23136735</td></tr></tbody></table></div>"
      ]
     },
     "metadata": {
      "application/vnd.databricks.v1+output": {
       "addedWidgets": {},
       "aggData": [],
       "aggError": "",
       "aggOverflow": false,
       "aggSchema": [],
       "aggSeriesLimitReached": false,
       "aggType": "",
       "arguments": {},
       "columnCustomDisplayInfos": {},
       "data": [
        [
         "Facebook",
         78158306
        ],
        [
         "WhatsApp Messenger",
         69119316
        ],
        [
         "Instagram",
         66577446
        ],
        [
         "Messenger – Text and Video Chat for Free",
         56646578
        ],
        [
         "Clash of Clans",
         44893888
        ],
        [
         "Clean Master- Space Cleaner & Antivirus",
         42916526
        ],
        [
         "Subway Surfers",
         27725352
        ],
        [
         "YouTube",
         25655305
        ],
        [
         "Security Master - Antivirus, VPN, AppLock, Booster",
         24900999
        ],
        [
         "Clash Royale",
         23136735
        ]
       ],
       "datasetInfos": [],
       "dbfsResultPath": null,
       "isJsonSchema": true,
       "metadata": {},
       "overflow": false,
       "plotOptions": {
        "customPlotOptions": {},
        "displayType": "table",
        "pivotAggregation": null,
        "pivotColumns": null,
        "xColumns": null,
        "yColumns": null
       },
       "removedWidgets": [],
       "schema": [
        {
         "metadata": "{}",
         "name": "App",
         "type": "\"string\""
        },
        {
         "metadata": "{}",
         "name": "Reviews",
         "type": "\"integer\""
        }
       ],
       "type": "table"
      }
     },
     "output_type": "display_data"
    },
    {
     "data": {
      "text/plain": [
       "Databricks visualization. Run in Databricks to view."
      ]
     },
     "metadata": {
      "application/vnd.databricks.v1.subcommand+json": {
       "baseErrorDetails": null,
       "bindings": {},
       "collapsed": false,
       "command": "%sql WITH q AS (SELECT App, Reviews\nFROM apps\nORDER BY Reviews DESC\nLIMIT 10) SELECT `App`,SUM(`Reviews`) `column_cb9eea4c12` FROM q GROUP BY `App`",
       "commandTitle": "Visualization 1",
       "commandType": "auto",
       "commandVersion": 0,
       "commentThread": [],
       "commentsVisible": false,
       "contentSha256Hex": null,
       "customPlotOptions": {
        "redashChart": [
         {
          "key": "type",
          "value": "CHART"
         },
         {
          "key": "options",
          "value": {
           "alignYAxesAtZero": true,
           "coefficient": 1,
           "columnConfigurationMap": {
            "x": {
             "column": "App",
             "id": "column_cb9eea4c11"
            },
            "y": [
             {
              "column": "Reviews",
              "id": "column_cb9eea4c12",
              "transform": "SUM"
             }
            ]
           },
           "dateTimeFormat": "DD/MM/YYYY HH:mm",
           "direction": {
            "type": "counterclockwise"
           },
           "error_y": {
            "type": "data",
            "visible": true
           },
           "globalSeriesType": "column",
           "isAggregationOn": true,
           "legend": {
            "traceorder": "normal"
           },
           "missingValuesAsZero": true,
           "numberFormat": "0,0.[00000]",
           "percentFormat": "0[.]00%",
           "series": {
            "error_y": {
             "type": "data",
             "visible": true
            },
            "stacking": null
           },
           "seriesOptions": {
            "column_cb9eea4c12": {
             "color": "#3BD973",
             "name": "Reviews",
             "yAxis": 0
            }
           },
           "showDataLabels": true,
           "sizemode": "diameter",
           "sortX": false,
           "sortY": true,
           "swappedAxes": true,
           "textFormat": "",
           "useAggregationsUi": true,
           "valuesOptions": {},
           "version": 2,
           "xAxis": {
            "labels": {
             "enabled": true
            },
            "type": "-"
           },
           "yAxis": [
            {
             "type": "-"
            },
            {
             "opposite": true,
             "type": "-"
            }
           ]
          }
         }
        ]
       },
       "datasetPreviewNameToCmdIdMap": {},
       "diffDeletes": [],
       "diffInserts": [],
       "displayType": "redashChart",
       "error": null,
       "errorDetails": null,
       "errorSummary": null,
       "errorTraceType": null,
       "finishTime": 0,
       "globalVars": {},
       "guid": "",
       "height": "auto",
       "hideCommandCode": false,
       "hideCommandResult": false,
       "iPythonMetadata": null,
       "inputWidgets": {},
       "isLockedInExamMode": false,
       "latestUser": "a user",
       "latestUserId": null,
       "listResultMetadata": null,
       "metadata": {},
       "nuid": "e1e3d0a9-f100-4096-af64-b1ba4988d20e",
       "origId": 0,
       "parentHierarchy": [],
       "pivotAggregation": null,
       "pivotColumns": null,
       "position": 29,
       "resultDbfsErrorMessage": null,
       "resultDbfsStatus": "INLINED_IN_TREE",
       "results": null,
       "showCommandTitle": false,
       "startTime": 0,
       "state": "input",
       "streamStates": {},
       "subcommandOptions": {
        "queryPlan": {
         "groups": [
          {
           "column": "App",
           "type": "column"
          }
         ],
         "selects": [
          {
           "column": "App",
           "type": "column"
          },
          {
           "alias": "column_cb9eea4c12",
           "args": [
            {
             "column": "Reviews",
             "type": "column"
            }
           ],
           "function": "SUM",
           "type": "function"
          }
         ]
        }
       },
       "submitTime": 0,
       "subtype": "tableResultSubCmd.visualization",
       "tableResultIndex": 0,
       "useConsistentColors": false,
       "version": "CommandV1",
       "width": "auto",
       "workflows": [],
       "xColumns": null,
       "yColumns": null
      }
     },
     "output_type": "display_data"
    }
   ],
   "source": [
    "%sql\n",
    "SELECT App, Reviews\n",
    "FROM apps\n",
    "ORDER BY Reviews DESC\n",
    "LIMIT 10;\n",
    "\n"
   ]
  },
  {
   "cell_type": "markdown",
   "metadata": {
    "application/vnd.databricks.v1+cell": {
     "cellMetadata": {},
     "inputWidgets": {},
     "nuid": "d8ee0423-e8bb-469e-8094-a0ed47910658",
     "showTitle": false,
     "title": ""
    }
   },
   "source": [
    "Top 10 installed apps "
   ]
  },
  {
   "cell_type": "code",
   "execution_count": null,
   "metadata": {
    "application/vnd.databricks.v1+cell": {
     "cellMetadata": {
      "byteLimit": 2048000,
      "implicitDf": true,
      "rowLimit": 10000
     },
     "inputWidgets": {},
     "nuid": "20f992de-d0ac-4a09-b8c4-72dae04b2bd5",
     "showTitle": false,
     "title": ""
    }
   },
   "outputs": [
    {
     "data": {
      "text/html": [
       "<style scoped>\n",
       "  .table-result-container {\n",
       "    max-height: 300px;\n",
       "    overflow: auto;\n",
       "  }\n",
       "  table, th, td {\n",
       "    border: 1px solid black;\n",
       "    border-collapse: collapse;\n",
       "  }\n",
       "  th, td {\n",
       "    padding: 5px;\n",
       "  }\n",
       "  th {\n",
       "    text-align: left;\n",
       "  }\n",
       "</style><div class='table-result-container'><table class='table-result'><thead style='background-color: white'><tr><th>App</th><th>Installs</th></tr></thead><tbody><tr><td>Google Chrome: Fast & Secure</td><td>1000000000</td></tr><tr><td>Hangouts</td><td>1000000000</td></tr><tr><td>Google Drive</td><td>1000000000</td></tr><tr><td>Facebook</td><td>1000000000</td></tr><tr><td>Google News</td><td>1000000000</td></tr><tr><td>Google Play Games</td><td>1000000000</td></tr><tr><td>Google+</td><td>1000000000</td></tr><tr><td>Google Play Movies & TV</td><td>1000000000</td></tr><tr><td>Gmail</td><td>1000000000</td></tr><tr><td>Google Street View</td><td>1000000000</td></tr></tbody></table></div>"
      ]
     },
     "metadata": {
      "application/vnd.databricks.v1+output": {
       "addedWidgets": {},
       "aggData": [],
       "aggError": "",
       "aggOverflow": false,
       "aggSchema": [],
       "aggSeriesLimitReached": false,
       "aggType": "",
       "arguments": {},
       "columnCustomDisplayInfos": {},
       "data": [
        [
         "Google Chrome: Fast & Secure",
         1000000000
        ],
        [
         "Hangouts",
         1000000000
        ],
        [
         "Google Drive",
         1000000000
        ],
        [
         "Facebook",
         1000000000
        ],
        [
         "Google News",
         1000000000
        ],
        [
         "Google Play Games",
         1000000000
        ],
        [
         "Google+",
         1000000000
        ],
        [
         "Google Play Movies & TV",
         1000000000
        ],
        [
         "Gmail",
         1000000000
        ],
        [
         "Google Street View",
         1000000000
        ]
       ],
       "datasetInfos": [],
       "dbfsResultPath": null,
       "isJsonSchema": true,
       "metadata": {},
       "overflow": false,
       "plotOptions": {
        "customPlotOptions": {},
        "displayType": "table",
        "pivotAggregation": null,
        "pivotColumns": null,
        "xColumns": null,
        "yColumns": null
       },
       "removedWidgets": [],
       "schema": [
        {
         "metadata": "{}",
         "name": "App",
         "type": "\"string\""
        },
        {
         "metadata": "{}",
         "name": "Installs",
         "type": "\"integer\""
        }
       ],
       "type": "table"
      }
     },
     "output_type": "display_data"
    }
   ],
   "source": [
    "%sql\n",
    "SELECT App, Installs\n",
    "FROM apps\n",
    "ORDER BY Installs DESC\n",
    "LIMIT 10;\n"
   ]
  },
  {
   "cell_type": "code",
   "execution_count": null,
   "metadata": {
    "application/vnd.databricks.v1+cell": {
     "cellMetadata": {
      "byteLimit": 2048000,
      "implicitDf": true,
      "rowLimit": 10000
     },
     "inputWidgets": {},
     "nuid": "182ec1f1-9a02-4fc9-8571-44e46fd4f22c",
     "showTitle": false,
     "title": ""
    }
   },
   "outputs": [
    {
     "data": {
      "text/html": [
       "<style scoped>\n",
       "  .table-result-container {\n",
       "    max-height: 300px;\n",
       "    overflow: auto;\n",
       "  }\n",
       "  table, th, td {\n",
       "    border: 1px solid black;\n",
       "    border-collapse: collapse;\n",
       "  }\n",
       "  th, td {\n",
       "    padding: 5px;\n",
       "  }\n",
       "  th {\n",
       "    text-align: left;\n",
       "  }\n",
       "</style><div class='table-result-container'><table class='table-result'><thead style='background-color: white'><tr><th>Type</th><th>App_Count</th></tr></thead><tbody><tr><td>Free</td><td>8924</td></tr><tr><td>Paid</td><td>754</td></tr></tbody></table></div>"
      ]
     },
     "metadata": {
      "application/vnd.databricks.v1+output": {
       "addedWidgets": {},
       "aggData": [],
       "aggError": "",
       "aggOverflow": false,
       "aggSchema": [],
       "aggSeriesLimitReached": false,
       "aggType": "",
       "arguments": {},
       "columnCustomDisplayInfos": {},
       "data": [
        [
         "Free",
         8924
        ],
        [
         "Paid",
         754
        ]
       ],
       "datasetInfos": [],
       "dbfsResultPath": null,
       "isJsonSchema": true,
       "metadata": {},
       "overflow": false,
       "plotOptions": {
        "customPlotOptions": {},
        "displayType": "table",
        "pivotAggregation": null,
        "pivotColumns": null,
        "xColumns": null,
        "yColumns": null
       },
       "removedWidgets": [],
       "schema": [
        {
         "metadata": "{}",
         "name": "Type",
         "type": "\"string\""
        },
        {
         "metadata": "{}",
         "name": "App_Count",
         "type": "\"long\""
        }
       ],
       "type": "table"
      }
     },
     "output_type": "display_data"
    },
    {
     "data": {
      "text/plain": [
       "Databricks visualization. Run in Databricks to view."
      ]
     },
     "metadata": {
      "application/vnd.databricks.v1.subcommand+json": {
       "baseErrorDetails": null,
       "bindings": {},
       "collapsed": false,
       "command": "%sql WITH q AS (SELECT Type, COUNT(App) AS App_Count\nFROM apps\nGROUP BY Type) SELECT `Type`,SUM(`App_Count`) `column_cb9eea4c15` FROM q GROUP BY `Type`",
       "commandTitle": "Visualization 1",
       "commandType": "auto",
       "commandVersion": 0,
       "commentThread": [],
       "commentsVisible": false,
       "contentSha256Hex": null,
       "customPlotOptions": {
        "redashChart": [
         {
          "key": "type",
          "value": "CHART"
         },
         {
          "key": "options",
          "value": {
           "alignYAxesAtZero": true,
           "coefficient": 1,
           "columnConfigurationMap": {
            "x": {
             "column": "Type",
             "id": "column_cb9eea4c14"
            },
            "y": [
             {
              "column": "App_Count",
              "id": "column_cb9eea4c15",
              "transform": "SUM"
             }
            ]
           },
           "dateTimeFormat": "DD/MM/YYYY HH:mm",
           "direction": {
            "type": "counterclockwise"
           },
           "error_y": {
            "type": "data",
            "visible": true
           },
           "globalSeriesType": "pie",
           "isAggregationOn": true,
           "legend": {
            "traceorder": "normal"
           },
           "missingValuesAsZero": true,
           "numberFormat": "0,0.[00000]",
           "percentFormat": "0[.]00%",
           "series": {
            "error_y": {
             "type": "data",
             "visible": true
            },
            "stacking": null
           },
           "seriesOptions": {
            "column_cb9eea4c15": {
             "name": "App_Count",
             "type": "pie",
             "yAxis": 0
            }
           },
           "showDataLabels": true,
           "sizemode": "diameter",
           "sortX": true,
           "sortY": true,
           "swappedAxes": false,
           "textFormat": "Free vs Paid",
           "useAggregationsUi": true,
           "valuesOptions": {
            "Free": {
             "color": "#799CFF"
            }
           },
           "version": 2,
           "xAxis": {
            "labels": {
             "enabled": true
            },
            "type": "-"
           },
           "yAxis": [
            {
             "type": "-"
            },
            {
             "opposite": true,
             "type": "-"
            }
           ]
          }
         }
        ]
       },
       "datasetPreviewNameToCmdIdMap": {},
       "diffDeletes": [],
       "diffInserts": [],
       "displayType": "redashChart",
       "error": null,
       "errorDetails": null,
       "errorSummary": null,
       "errorTraceType": null,
       "finishTime": 0,
       "globalVars": {},
       "guid": "",
       "height": "auto",
       "hideCommandCode": false,
       "hideCommandResult": false,
       "iPythonMetadata": null,
       "inputWidgets": {},
       "isLockedInExamMode": false,
       "latestUser": "a user",
       "latestUserId": null,
       "listResultMetadata": null,
       "metadata": {},
       "nuid": "e999fe12-d5a2-40a9-b84b-ef132ecc7ae8",
       "origId": 0,
       "parentHierarchy": [],
       "pivotAggregation": null,
       "pivotColumns": null,
       "position": 31,
       "resultDbfsErrorMessage": null,
       "resultDbfsStatus": "INLINED_IN_TREE",
       "results": null,
       "showCommandTitle": false,
       "startTime": 0,
       "state": "input",
       "streamStates": {},
       "subcommandOptions": {
        "queryPlan": {
         "groups": [
          {
           "column": "Type",
           "type": "column"
          }
         ],
         "selects": [
          {
           "column": "Type",
           "type": "column"
          },
          {
           "alias": "column_cb9eea4c15",
           "args": [
            {
             "column": "App_Count",
             "type": "column"
            }
           ],
           "function": "SUM",
           "type": "function"
          }
         ]
        }
       },
       "submitTime": 0,
       "subtype": "tableResultSubCmd.visualization",
       "tableResultIndex": 0,
       "useConsistentColors": false,
       "version": "CommandV1",
       "width": "auto",
       "workflows": [],
       "xColumns": null,
       "yColumns": null
      }
     },
     "output_type": "display_data"
    }
   ],
   "source": [
    "%sql\n",
    "SELECT Type, COUNT(App) AS App_Count\n",
    "FROM apps\n",
    "GROUP BY Type;\n"
   ]
  },
  {
   "cell_type": "markdown",
   "metadata": {
    "application/vnd.databricks.v1+cell": {
     "cellMetadata": {},
     "inputWidgets": {},
     "nuid": "a7f47e21-650a-46eb-8526-5aef210e9c40",
     "showTitle": false,
     "title": ""
    }
   },
   "source": [
    "Category-wise Distribution of Apps\n"
   ]
  },
  {
   "cell_type": "code",
   "execution_count": null,
   "metadata": {
    "application/vnd.databricks.v1+cell": {
     "cellMetadata": {
      "byteLimit": 2048000,
      "implicitDf": true,
      "rowLimit": 10000
     },
     "inputWidgets": {},
     "nuid": "4634c8b7-a84b-4d3d-8b2d-f447e9dc4fe7",
     "showTitle": false,
     "title": ""
    }
   },
   "outputs": [
    {
     "data": {
      "text/html": [
       "<style scoped>\n",
       "  .table-result-container {\n",
       "    max-height: 300px;\n",
       "    overflow: auto;\n",
       "  }\n",
       "  table, th, td {\n",
       "    border: 1px solid black;\n",
       "    border-collapse: collapse;\n",
       "  }\n",
       "  th, td {\n",
       "    padding: 5px;\n",
       "  }\n",
       "  th {\n",
       "    text-align: left;\n",
       "  }\n",
       "</style><div class='table-result-container'><table class='table-result'><thead style='background-color: white'><tr><th>Category</th><th>Number_of_Apps</th></tr></thead><tbody><tr><td>FAMILY</td><td>1875</td></tr><tr><td>GAME</td><td>950</td></tr><tr><td>TOOLS</td><td>828</td></tr><tr><td>BUSINESS</td><td>420</td></tr><tr><td>MEDICAL</td><td>400</td></tr><tr><td>PERSONALIZATION</td><td>376</td></tr><tr><td>PRODUCTIVITY</td><td>375</td></tr><tr><td>LIFESTYLE</td><td>369</td></tr><tr><td>FINANCE</td><td>345</td></tr><tr><td>SPORTS</td><td>325</td></tr><tr><td>COMMUNICATION</td><td>316</td></tr><tr><td>HEALTH_AND_FITNESS</td><td>288</td></tr><tr><td>PHOTOGRAPHY</td><td>283</td></tr><tr><td>NEWS_AND_MAGAZINES</td><td>254</td></tr><tr><td>SOCIAL</td><td>239</td></tr><tr><td>BOOKS_AND_REFERENCE</td><td>221</td></tr><tr><td>TRAVEL_AND_LOCAL</td><td>219</td></tr><tr><td>SHOPPING</td><td>203</td></tr><tr><td>DATING</td><td>172</td></tr><tr><td>VIDEO_PLAYERS</td><td>165</td></tr><tr><td>MAPS_AND_NAVIGATION</td><td>131</td></tr><tr><td>FOOD_AND_DRINK</td><td>113</td></tr><tr><td>EDUCATION</td><td>109</td></tr><tr><td>ENTERTAINMENT</td><td>87</td></tr><tr><td>AUTO_AND_VEHICLES</td><td>85</td></tr><tr><td>LIBRARIES_AND_DEMO</td><td>83</td></tr><tr><td>WEATHER</td><td>79</td></tr><tr><td>HOUSE_AND_HOME</td><td>74</td></tr><tr><td>EVENTS</td><td>64</td></tr><tr><td>PARENTING</td><td>60</td></tr><tr><td>ART_AND_DESIGN</td><td>60</td></tr><tr><td>COMICS</td><td>56</td></tr><tr><td>BEAUTY</td><td>53</td></tr><tr><td>1.9</td><td>1</td></tr></tbody></table></div>"
      ]
     },
     "metadata": {
      "application/vnd.databricks.v1+output": {
       "addedWidgets": {},
       "aggData": [],
       "aggError": "",
       "aggOverflow": false,
       "aggSchema": [],
       "aggSeriesLimitReached": false,
       "aggType": "",
       "arguments": {},
       "columnCustomDisplayInfos": {},
       "data": [
        [
         "FAMILY",
         1875
        ],
        [
         "GAME",
         950
        ],
        [
         "TOOLS",
         828
        ],
        [
         "BUSINESS",
         420
        ],
        [
         "MEDICAL",
         400
        ],
        [
         "PERSONALIZATION",
         376
        ],
        [
         "PRODUCTIVITY",
         375
        ],
        [
         "LIFESTYLE",
         369
        ],
        [
         "FINANCE",
         345
        ],
        [
         "SPORTS",
         325
        ],
        [
         "COMMUNICATION",
         316
        ],
        [
         "HEALTH_AND_FITNESS",
         288
        ],
        [
         "PHOTOGRAPHY",
         283
        ],
        [
         "NEWS_AND_MAGAZINES",
         254
        ],
        [
         "SOCIAL",
         239
        ],
        [
         "BOOKS_AND_REFERENCE",
         221
        ],
        [
         "TRAVEL_AND_LOCAL",
         219
        ],
        [
         "SHOPPING",
         203
        ],
        [
         "DATING",
         172
        ],
        [
         "VIDEO_PLAYERS",
         165
        ],
        [
         "MAPS_AND_NAVIGATION",
         131
        ],
        [
         "FOOD_AND_DRINK",
         113
        ],
        [
         "EDUCATION",
         109
        ],
        [
         "ENTERTAINMENT",
         87
        ],
        [
         "AUTO_AND_VEHICLES",
         85
        ],
        [
         "LIBRARIES_AND_DEMO",
         83
        ],
        [
         "WEATHER",
         79
        ],
        [
         "HOUSE_AND_HOME",
         74
        ],
        [
         "EVENTS",
         64
        ],
        [
         "PARENTING",
         60
        ],
        [
         "ART_AND_DESIGN",
         60
        ],
        [
         "COMICS",
         56
        ],
        [
         "BEAUTY",
         53
        ],
        [
         "1.9",
         1
        ]
       ],
       "datasetInfos": [],
       "dbfsResultPath": null,
       "isJsonSchema": true,
       "metadata": {},
       "overflow": false,
       "plotOptions": {
        "customPlotOptions": {},
        "displayType": "table",
        "pivotAggregation": null,
        "pivotColumns": null,
        "xColumns": null,
        "yColumns": null
       },
       "removedWidgets": [],
       "schema": [
        {
         "metadata": "{}",
         "name": "Category",
         "type": "\"string\""
        },
        {
         "metadata": "{}",
         "name": "Number_of_Apps",
         "type": "\"long\""
        }
       ],
       "type": "table"
      }
     },
     "output_type": "display_data"
    },
    {
     "data": {
      "text/plain": [
       "Databricks visualization. Run in Databricks to view."
      ]
     },
     "metadata": {
      "application/vnd.databricks.v1.subcommand+json": {
       "baseErrorDetails": null,
       "bindings": {},
       "collapsed": false,
       "command": "%sql\nSELECT Category, COUNT(*) AS Number_of_Apps\nFROM apps\nGROUP BY Category\nORDER BY Number_of_Apps DESC;\n",
       "commandTitle": "Visualization 1",
       "commandType": "auto",
       "commandVersion": 0,
       "commentThread": [],
       "commentsVisible": false,
       "contentSha256Hex": null,
       "customPlotOptions": {
        "redashChart": [
         {
          "key": "type",
          "value": "WORD_CLOUD"
         },
         {
          "key": "options",
          "value": {
           "column": "Category",
           "frequenciesColumn": "Number_of_Apps",
           "wordCountLimit": {
            "max": null,
            "min": null
           },
           "wordLengthLimit": {
            "max": null,
            "min": null
           }
          }
         }
        ]
       },
       "datasetPreviewNameToCmdIdMap": {},
       "diffDeletes": [],
       "diffInserts": [],
       "displayType": "redashChart",
       "error": null,
       "errorDetails": null,
       "errorSummary": null,
       "errorTraceType": null,
       "finishTime": 0,
       "globalVars": {},
       "guid": "",
       "height": "auto",
       "hideCommandCode": false,
       "hideCommandResult": false,
       "iPythonMetadata": null,
       "inputWidgets": {},
       "isLockedInExamMode": false,
       "latestUser": "a user",
       "latestUserId": null,
       "listResultMetadata": null,
       "metadata": {},
       "nuid": "24a7b85d-7e9a-4630-8e84-2e6af0c5c31f",
       "origId": 0,
       "parentHierarchy": [],
       "pivotAggregation": null,
       "pivotColumns": null,
       "position": 32,
       "resultDbfsErrorMessage": null,
       "resultDbfsStatus": "INLINED_IN_TREE",
       "results": null,
       "showCommandTitle": false,
       "startTime": 0,
       "state": "input",
       "streamStates": {},
       "subcommandOptions": {},
       "submitTime": 0,
       "subtype": "tableResultSubCmd.visualization",
       "tableResultIndex": 0,
       "useConsistentColors": false,
       "version": "CommandV1",
       "width": "auto",
       "workflows": [],
       "xColumns": null,
       "yColumns": null
      }
     },
     "output_type": "display_data"
    }
   ],
   "source": [
    "%sql\n",
    "SELECT Category, COUNT(*) AS Number_of_Apps\n",
    "FROM apps\n",
    "GROUP BY Category\n",
    "ORDER BY Number_of_Apps DESC;\n"
   ]
  },
  {
   "cell_type": "markdown",
   "metadata": {
    "application/vnd.databricks.v1+cell": {
     "cellMetadata": {},
     "inputWidgets": {},
     "nuid": "90e11a47-69d6-4873-8e8b-d5be96f8a875",
     "showTitle": false,
     "title": ""
    }
   },
   "source": [
    "Top Paid Apps"
   ]
  },
  {
   "cell_type": "code",
   "execution_count": null,
   "metadata": {
    "application/vnd.databricks.v1+cell": {
     "cellMetadata": {
      "byteLimit": 2048000,
      "implicitDf": true,
      "rowLimit": 10000
     },
     "inputWidgets": {},
     "nuid": "889bdf64-c000-4d00-b4aa-a14d4728db35",
     "showTitle": false,
     "title": ""
    }
   },
   "outputs": [
    {
     "data": {
      "text/html": [
       "<style scoped>\n",
       "  .table-result-container {\n",
       "    max-height: 300px;\n",
       "    overflow: auto;\n",
       "  }\n",
       "  table, th, td {\n",
       "    border: 1px solid black;\n",
       "    border-collapse: collapse;\n",
       "  }\n",
       "  th, td {\n",
       "    padding: 5px;\n",
       "  }\n",
       "  th {\n",
       "    text-align: left;\n",
       "  }\n",
       "</style><div class='table-result-container'><table class='table-result'><thead style='background-color: white'><tr><th>App</th><th>Price</th></tr></thead><tbody><tr><td>I'm Rich - Trump Edition</td><td>400</td></tr><tr><td>I Am Rich Pro</td><td>399</td></tr><tr><td>I am Rich</td><td>399</td></tr><tr><td>I am Rich Plus</td><td>399</td></tr><tr><td>I Am Rich Premium</td><td>399</td></tr><tr><td>I am Rich!</td><td>399</td></tr><tr><td>I AM RICH PRO PLUS</td><td>399</td></tr><tr><td>I am rich(premium)</td><td>399</td></tr><tr><td>I am rich (Most expensive app)</td><td>399</td></tr><tr><td>I am rich</td><td>399</td></tr></tbody></table></div>"
      ]
     },
     "metadata": {
      "application/vnd.databricks.v1+output": {
       "addedWidgets": {},
       "aggData": [],
       "aggError": "",
       "aggOverflow": false,
       "aggSchema": [],
       "aggSeriesLimitReached": false,
       "aggType": "",
       "arguments": {},
       "columnCustomDisplayInfos": {},
       "data": [
        [
         "I'm Rich - Trump Edition",
         400
        ],
        [
         "I Am Rich Pro",
         399
        ],
        [
         "I am Rich",
         399
        ],
        [
         "I am Rich Plus",
         399
        ],
        [
         "I Am Rich Premium",
         399
        ],
        [
         "I am Rich!",
         399
        ],
        [
         "I AM RICH PRO PLUS",
         399
        ],
        [
         "I am rich(premium)",
         399
        ],
        [
         "I am rich (Most expensive app)",
         399
        ],
        [
         "I am rich",
         399
        ]
       ],
       "datasetInfos": [],
       "dbfsResultPath": null,
       "isJsonSchema": true,
       "metadata": {},
       "overflow": false,
       "plotOptions": {
        "customPlotOptions": {},
        "displayType": "table",
        "pivotAggregation": null,
        "pivotColumns": null,
        "xColumns": null,
        "yColumns": null
       },
       "removedWidgets": [],
       "schema": [
        {
         "metadata": "{}",
         "name": "App",
         "type": "\"string\""
        },
        {
         "metadata": "{}",
         "name": "Price",
         "type": "\"integer\""
        }
       ],
       "type": "table"
      }
     },
     "output_type": "display_data"
    }
   ],
   "source": [
    "%sql\n",
    "SELECT App, Price\n",
    "FROM apps\n",
    "WHERE Type = 'Paid'\n",
    "ORDER BY Price DESC\n",
    "LIMIT 10;\n"
   ]
  },
  {
   "cell_type": "markdown",
   "metadata": {
    "application/vnd.databricks.v1+cell": {
     "cellMetadata": {},
     "inputWidgets": {},
     "nuid": "8dd538af-90db-4e8d-8642-e3d0d93dc424",
     "showTitle": false,
     "title": ""
    }
   },
   "source": [
    "Top Paid Apps with Maximum Ratings"
   ]
  },
  {
   "cell_type": "code",
   "execution_count": null,
   "metadata": {
    "application/vnd.databricks.v1+cell": {
     "cellMetadata": {
      "byteLimit": 2048000,
      "implicitDf": true,
      "rowLimit": 10000
     },
     "inputWidgets": {},
     "nuid": "63ec86e0-e010-4fa2-b32e-635725cca82b",
     "showTitle": false,
     "title": ""
    }
   },
   "outputs": [
    {
     "data": {
      "text/html": [
       "<style scoped>\n",
       "  .table-result-container {\n",
       "    max-height: 300px;\n",
       "    overflow: auto;\n",
       "  }\n",
       "  table, th, td {\n",
       "    border: 1px solid black;\n",
       "    border-collapse: collapse;\n",
       "  }\n",
       "  th, td {\n",
       "    padding: 5px;\n",
       "  }\n",
       "  th {\n",
       "    text-align: left;\n",
       "  }\n",
       "</style><div class='table-result-container'><table class='table-result'><thead style='background-color: white'><tr><th>App</th><th>Rating</th></tr></thead><tbody><tr><td>AP Art History Flashcards</td><td>5.0</td></tr><tr><td>CA Speakers</td><td>5.0</td></tr><tr><td>CI 174 Gray Icon Pack</td><td>5.0</td></tr><tr><td>AJ Gray Dark Icon Pack</td><td>5.0</td></tr><tr><td>Android P Style Icon Pack</td><td>5.0</td></tr><tr><td>AC DC Power Monitor</td><td>5.0</td></tr><tr><td>BC MVA Fines</td><td>5.0</td></tr><tr><td>30WPM Amateur ham radio Koch CW Morse code trainer</td><td>5.0</td></tr><tr><td>AJ Blue Icon Pack</td><td>5.0</td></tr><tr><td>ADS-B Driver</td><td>5.0</td></tr></tbody></table></div>"
      ]
     },
     "metadata": {
      "application/vnd.databricks.v1+output": {
       "addedWidgets": {},
       "aggData": [],
       "aggError": "",
       "aggOverflow": false,
       "aggSchema": [],
       "aggSeriesLimitReached": false,
       "aggType": "",
       "arguments": {},
       "columnCustomDisplayInfos": {},
       "data": [
        [
         "AP Art History Flashcards",
         5
        ],
        [
         "CA Speakers",
         5
        ],
        [
         "CI 174 Gray Icon Pack",
         5
        ],
        [
         "AJ Gray Dark Icon Pack",
         5
        ],
        [
         "Android P Style Icon Pack",
         5
        ],
        [
         "AC DC Power Monitor",
         5
        ],
        [
         "BC MVA Fines",
         5
        ],
        [
         "30WPM Amateur ham radio Koch CW Morse code trainer",
         5
        ],
        [
         "AJ Blue Icon Pack",
         5
        ],
        [
         "ADS-B Driver",
         5
        ]
       ],
       "datasetInfos": [],
       "dbfsResultPath": null,
       "isJsonSchema": true,
       "metadata": {},
       "overflow": false,
       "plotOptions": {
        "customPlotOptions": {},
        "displayType": "table",
        "pivotAggregation": null,
        "pivotColumns": null,
        "xColumns": null,
        "yColumns": null
       },
       "removedWidgets": [],
       "schema": [
        {
         "metadata": "{}",
         "name": "App",
         "type": "\"string\""
        },
        {
         "metadata": "{}",
         "name": "Rating",
         "type": "\"double\""
        }
       ],
       "type": "table"
      }
     },
     "output_type": "display_data"
    }
   ],
   "source": [
    "%sql\n",
    "SELECT App, Rating\n",
    "FROM apps\n",
    "WHERE Type = 'Paid'\n",
    "ORDER BY Rating DESC\n",
    "LIMIT 10;\n",
    "\n"
   ]
  },
  {
   "cell_type": "code",
   "execution_count": null,
   "metadata": {
    "application/vnd.databricks.v1+cell": {
     "cellMetadata": {},
     "inputWidgets": {},
     "nuid": "143099f1-7e9d-4dfe-9810-7e97f43024e1",
     "showTitle": false,
     "title": ""
    }
   },
   "outputs": [],
   "source": []
  }
 ],
 "metadata": {
  "application/vnd.databricks.v1+notebook": {
   "dashboards": [],
   "environmentMetadata": null,
   "language": "python",
   "notebookMetadata": {
    "mostRecentlyExecutedCommandWithImplicitDF": {
     "commandId": 4006325429595573,
     "dataframes": [
      "_sqldf"
     ]
    },
    "pythonIndentUnit": 4
   },
   "notebookName": "Databricks (1)",
   "widgets": {}
  },
  "language_info": {
   "name": "python"
  }
 },
 "nbformat": 4,
 "nbformat_minor": 0
}
